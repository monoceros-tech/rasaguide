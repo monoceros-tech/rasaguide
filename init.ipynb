{
 "cells": [
  {
   "cell_type": "markdown",
   "metadata": {},
   "source": [
    "## Intro to Conversational AI and Rasa"
   ]
  },
  {
   "cell_type": "code",
   "execution_count": null,
   "metadata": {},
   "outputs": [],
   "source": [
    "!pip install nest_asyncio\n",
    "!pip install rasa"
   ]
  },
  {
   "cell_type": "markdown",
   "metadata": {},
   "source": [
    "### Start the event loop\n",
    "\n",
    "Running asynchronous Rasa code in Jupyter Notebooks requires an extra requirement, since Jupyter Notebooks already run on event loops. Run the cell below to start the event loop:"
   ]
  },
  {
   "cell_type": "code",
   "execution_count": null,
   "metadata": {},
   "outputs": [],
   "source": [
    "import nest_asyncio\n",
    "\n",
    "nest_asyncio.apply()\n",
    "print(\"Event loop ready.\")"
   ]
  },
  {
   "cell_type": "markdown",
   "metadata": {},
   "source": [
    "### Create a new project and train an example assistant\n",
    "\n",
    "Create a new project called **rasabot**. The function below will create a new project with example training data and most important files. It replicates the behaviour of Rasa CLI function **rasa init**.\n"
   ]
  },
  {
   "cell_type": "code",
   "execution_count": null,
   "metadata": {},
   "outputs": [],
   "source": [
    "import rasa\n",
    "from rasa.cli.scaffold import create_initial_project\n",
    "import os\n",
    "\n",
    "project = \"rasabot\"\n",
    "create_initial_project(project)\n",
    "\n",
    "# move into project directory and show files\n",
    "os.chdir(project)\n",
    "print(os.listdir(\".\"))\n",
    "\n",
    "# define the project files\n",
    "config = \"config.yml\"\n",
    "training_files = \"data/\"\n",
    "domain = \"domain.yml\"\n",
    "output = \"models/\"\n",
    "\n",
    "#train the example assistant\n",
    "model_path = rasa.train(domain, config, [training_files], output)"
   ]
  },
  {
   "cell_type": "markdown",
   "metadata": {},
   "source": [
    "### Have a chat with an assistant\n",
    "\n",
    "The function above creates an assistant called moodbot which asks how you feel and if you are sad it tries to cheer your up with a picture of a cute tiger cub. You can test an assistant using the functions below. To stop the chat type '/stop' in a chat window.\n",
    "The code cell below replicates the behaviour of the Rasa CLI function **rasa shell**."
   ]
  },
  {
   "cell_type": "code",
   "execution_count": null,
   "metadata": {},
   "outputs": [],
   "source": [
    "from rasa.jupyter import chat\n",
    "chat(model_path)"
   ]
  },
  {
   "cell_type": "markdown",
   "metadata": {},
   "source": [
    "## Creating the NLU training data"
   ]
  },
  {
   "cell_type": "markdown",
   "metadata": {},
   "source": [
    "Now, we learn about the format of the NLU training data and create the necessary intent for our assistant. By running the fell below, you will update the training dataset with the new created intents. You are encouraged to add more training examples to existing intents or create completely new ones."
   ]
  },
  {
   "cell_type": "code",
   "execution_count": null,
   "metadata": {},
   "outputs": [],
   "source": [
    "nlu_md = \"\"\"\n",
    "## intent:greet\n",
    "- hey\n",
    "- hello\n",
    "- hi\n",
    "- good morning\n",
    "- good evening\n",
    "- hey there\n",
    "\n",
    "## intent:goodbye\n",
    "- bye\n",
    "- goodbye\n",
    "- see you around\n",
    "- see you later\n",
    "\n",
    "## intent:inform\n",
    "- [Sitka](location)\n",
    "- [Juneau](location)\n",
    "- [Virginia](location)\n",
    "- [Cusseta](location)\n",
    "- [Chicago](location)\n",
    "- [Tuscon](location)\n",
    "- [Columbus](location)\n",
    "- [San Francisco](location)\n",
    "\n",
    "## intent:search_provider\n",
    "- I need a [hospital](facility_type)\n",
    "- find me a nearby [hospital](facility_type)\n",
    "- show me [home health agencies](facility_type)\n",
    "- [hospital](facility_type)\n",
    "- find me a nearby [hospital](facility_type) in [San Francisco](location)\n",
    "- I need a [home health agency](facility_type)\n",
    "\n",
    "## intent:affirm\n",
    "- yes\n",
    "- indeed\n",
    "- of course\n",
    "- that sounds good\n",
    "- correct\n",
    "\n",
    "## intent:deny\n",
    "- no\n",
    "- never\n",
    "- I don't think so\n",
    "- don't like that\n",
    "- no way\n",
    "- not really\n",
    "\n",
    "## intent:mood_great\n",
    "- perfect\n",
    "- very good\n",
    "- great\n",
    "- amazing\n",
    "- wonderful\n",
    "- I am feeling very good\n",
    "- I am great\n",
    "- I'm good\n",
    "\n",
    "## intent:mood_unhappy\n",
    "- sad\n",
    "- very sad\n",
    "- unhappy\n",
    "- bad\n",
    "- very bad\n",
    "- awful\n",
    "- terrible\n",
    "- not very good\n",
    "- extremely sad\n",
    "- so sad\n",
    "\"\"\"\n",
    "\n",
    "%store nlu_md >data/nlu.md"
   ]
  },
  {
   "cell_type": "markdown",
   "metadata": {},
   "source": [
    "## Training the NLU model: pre-configured pipelines\n",
    "\n",
    "Now we talk about the pre-configured Rasa NLU training pipelines.\n",
    "\n",
    "### Updating the NLU configuration pipeline\n",
    "An NLU training pipeline can be specified by editing a file called config.yml in your project directory. By editing the cell below you can change the pre-configured pipelines from supervised_embeddings to pretrained_embeddings_spacy and test the performance.\n",
    "\n",
    "More about pipelines [in the blog] (https://blog.rasa.com/the-rasa-masterclass-handbook-episode-3/)"
   ]
  },
  {
   "cell_type": "code",
   "execution_count": null,
   "metadata": {},
   "outputs": [],
   "source": [
    "config_yml = \"\"\"\n",
    "\n",
    "language: en\n",
    "pipeline: supervised_embeddings\n",
    "\n",
    "\n",
    "policies:\n",
    "  - name: MemoizationPolicy\n",
    "  - name: KerasPolicy\n",
    "  - name: MappingPolicy\n",
    "\n",
    "\"\"\"\n",
    "\n",
    "%store config_yml >config.yml"
   ]
  },
  {
   "cell_type": "markdown",
   "metadata": {},
   "source": [
    "### Train and test the NLU model\n",
    "First, make sure to start the event loop for jupyter notebook.\n"
   ]
  },
  {
   "cell_type": "code",
   "execution_count": null,
   "metadata": {},
   "outputs": [],
   "source": [
    "import nest_asyncio\n",
    "\n",
    "nest_asyncio.apply()\n",
    "print(\"Event loop ready.\")"
   ]
  },
  {
   "cell_type": "markdown",
   "metadata": {},
   "source": [
    "Specify the model configuration, data files as well as the directory to store the trained model."
   ]
  },
  {
   "cell_type": "code",
   "execution_count": null,
   "metadata": {},
   "outputs": [],
   "source": [
    "import rasa\n",
    "from rasa.train import train_nlu\n",
    "\n",
    "config = \"config.yml\"\n",
    "training_files = \"data/\"\n",
    "domain = \"domain.yml\"\n",
    "output = \"models/\""
   ]
  },
  {
   "cell_type": "markdown",
   "metadata": {},
   "source": [
    "Train the model:"
   ]
  },
  {
   "cell_type": "code",
   "execution_count": null,
   "metadata": {},
   "outputs": [],
   "source": [
    "mod = train_nlu(config, training_files, output)"
   ]
  },
  {
   "cell_type": "markdown",
   "metadata": {},
   "source": [
    "## Intro to dialogue management with Rasa\n",
    "we are looking into the Dialogue management with Rasa - understanding the structure of training data (stories) and creating new examples.\n",
    "\n",
    "Dialogue management training data (stories) correspond to actual conversations between the user and an assistant where user inputs are expressed as corresponding intents while the responses of the assistant are expressed as corresponding actions.\n",
    "\n",
    "Create some training stories for the assistant. Run the cell below to update the stories in your stories.md file. You are encouraged to write more stories with different dialogue turns."
   ]
  },
  {
   "cell_type": "code",
   "execution_count": null,
   "metadata": {},
   "outputs": [],
   "source": [
    "stories_md = \"\"\"\n",
    "\n",
    "## hospital search happy path\n",
    "* greet\n",
    "  - utter_how_can_i_help\n",
    "* search_provider{\"facility_type\":\"hospital\", \"location\": \"San Francisco\"}\n",
    "  - action_facility_search\n",
    "* thanks\n",
    "  - utter_goodbye\n",
    "\n",
    "## hospital search + location\n",
    "* greet\n",
    "  - utter_how_can_i_help\n",
    "* search_provider{\"facility_type\":\"hospital\"}\n",
    "  - utter_ask_location\n",
    "* inform{\"location\":\"San Francisco\"}\n",
    "  - action_facility_search\n",
    "* thanks\n",
    "  - utter_goodbye\n",
    "\n",
    "## happy path\n",
    "* greet\n",
    "  - utter_greet\n",
    "* mood_great\n",
    "  - utter_happy\n",
    "\n",
    "## sad path 1\n",
    "* greet\n",
    "  - utter_greet\n",
    "* mood_unhappy\n",
    "  - utter_cheer_up\n",
    "  - utter_did_that_help\n",
    "* affirm\n",
    "  - utter_happy\n",
    "\n",
    "## sad path 2\n",
    "* greet\n",
    "  - utter_greet\n",
    "* mood_unhappy\n",
    "  - utter_cheer_up\n",
    "  - utter_did_that_help\n",
    "* deny\n",
    "  - utter_goodbye\n",
    "\n",
    "## say goodbye\n",
    "* goodbye\n",
    "  - utter_goodbye\n",
    "\n",
    "\"\"\"\n",
    "%store stories_md >data/stories.md"
   ]
  },
  {
   "cell_type": "markdown",
   "metadata": {},
   "source": [
    "## Domain, custom actions and slots\n",
    "\n",
    "Cover the reamining components of the Rasa dialogue management models - domain, custom actions and slots.\n",
    "\n",
    "### Define a domain\n",
    "Update the domain with all intents, entities, actions and template for the assistant:\n",
    "\n"
   ]
  },
  {
   "cell_type": "code",
   "execution_count": null,
   "metadata": {},
   "outputs": [],
   "source": [
    "domain_yml = \"\"\"\n",
    "intents:\n",
    "  - greet\n",
    "  - goodbye\n",
    "  - affirm\n",
    "  - deny\n",
    "  - mood_great\n",
    "  - mood_unhappy\n",
    "  - inform\n",
    "  - search_provider\n",
    "  - thanks\n",
    "\n",
    "entities:\n",
    "  - location\n",
    "  - facility_type\n",
    "\n",
    "slots:\n",
    "  location:\n",
    "    type: text\n",
    "  facility_type:\n",
    "    type: text\n",
    "  address:\n",
    "    type: unfeaturized\n",
    "\n",
    "actions:\n",
    "- utter_greet\n",
    "- utter_cheer_up\n",
    "- utter_did_that_help\n",
    "- utter_happy\n",
    "- utter_goodbye\n",
    "- utter_how_can_i_help\n",
    "- utter_ask_location\n",
    "- action_facility_search\n",
    "\n",
    "templates:\n",
    "  utter_greet:\n",
    "  - text: \"Hey! How are you?\"\n",
    "\n",
    "  utter_cheer_up:\n",
    "  - text: \"Here is something to cheer you up:\"\n",
    "    image: \"https://i.imgur.com/nGF1K8f.jpg\"\n",
    "\n",
    "  utter_did_that_help:\n",
    "  - text: \"Did that help you?\"\n",
    "\n",
    "  utter_happy:\n",
    "  - text: \"Great carry on!\"\n",
    "\n",
    "  utter_goodbye:\n",
    "  - text: \"Bye\"\n",
    "\n",
    "  utter_how_can_i_help:\n",
    "  - text: \"Hello. I am a medicare locator. I can help you find nearset hospital. How can I help?\"\n",
    "  - text: \"Hi. My name is medicare locator. How can I help you today?\"\n",
    "\n",
    "  utter_ask_location:\n",
    "  - text: \"Can you provide your location please?\"\n",
    "  - text: \"To find the nearest {facility_type} I need your address.\"\n",
    "\"\"\"\n",
    "\n",
    "%store domain_yml >domain.yml"
   ]
  },
  {
   "cell_type": "markdown",
   "metadata": {},
   "source": [
    "### Implement the custom action\n",
    "In the episode we also implemented a simple custom actions which looks for a specified facility based on user's preferences and sets the returne address as a slot."
   ]
  },
  {
   "cell_type": "code",
   "execution_count": null,
   "metadata": {},
   "outputs": [],
   "source": [
    "action_py = \"\"\"\n",
    "\n",
    "from typing import Any, Text, Dict, List\n",
    "\n",
    "from rasa_sdk import Action, Tracker\n",
    "from rasa_sdk.executor import CollectingDispatcher\n",
    "from rasa_sdk.events import SlotSet\n",
    "\n",
    "\n",
    "class ActionFacilitySearch(Action):\n",
    "\n",
    "    def name(self) -> Text:\n",
    "        return \"action_facility_search\"\n",
    "\n",
    "    def run(self, dispatcher: CollectingDispatcher,\n",
    "            tracker: Tracker,\n",
    "            domain: Dict[Text, Any]) -> List[Dict[Text, Any]]:\n",
    "\n",
    "        facility = tracker.get_slot(\"facility_type\")\n",
    "        address = \"300 Hyde St, San Francisco\"\n",
    "        dispatcher.utter_message(\"Here is the address of the {}:{}\".format(facility, address))\n",
    "\n",
    "        return [SlotSet(\"address\", address)]\n",
    "        \n",
    "\"\"\"        \n",
    "%store action_py >actions.py"
   ]
  },
  {
   "cell_type": "markdown",
   "metadata": {},
   "source": [
    "### Updating the stories\n",
    "Training stories should be updated to reflect the SlotSet events which are executed in specific custom ations:"
   ]
  },
  {
   "cell_type": "code",
   "execution_count": null,
   "metadata": {},
   "outputs": [],
   "source": [
    "stories_md = \"\"\"\n",
    "## hospital search happy path\n",
    "* greet\n",
    "  - utter_how_can_i_help\n",
    "* search_provider{\"facility_type\":\"hospital\", \"location\": \"San Francisco\"}\n",
    "  - action_facility_search\n",
    "  - slot{\"address\":\"300 Hyde St, San Francisco\"}\n",
    "* thanks\n",
    "  - utter_goodbye\n",
    "\n",
    "## hospital search + location\n",
    "* greet\n",
    "  - utter_how_can_i_help\n",
    "* search_provider{\"facility_type\":\"hospital\"}\n",
    "  - utter_ask_location\n",
    "* inform{\"location\":\"San Francisco\"}\n",
    "  - action_facility_search\n",
    "  - slot{\"address\":\"300 Hyde St, San Francisco\"}\n",
    "* thanks\n",
    "  - utter_goodbye\n",
    "\n",
    "## happy path\n",
    "* greet\n",
    "  - utter_greet\n",
    "* mood_great\n",
    "  - utter_happy\n",
    "\n",
    "## sad path 1\n",
    "* greet\n",
    "  - utter_greet\n",
    "* mood_unhappy\n",
    "  - utter_cheer_up\n",
    "  - utter_did_that_help\n",
    "* affirm\n",
    "  - utter_happy\n",
    "\n",
    "## sad path 2\n",
    "* greet\n",
    "  - utter_greet\n",
    "* mood_unhappy\n",
    "  - utter_cheer_up\n",
    "  - utter_did_that_help\n",
    "* deny\n",
    "  - utter_goodbye\n",
    "\n",
    "## say goodbye\n",
    "* goodbye\n",
    "  - utter_goodbye\n",
    "\n",
    "\"\"\"        \n",
    "%store stories_md >data/stories.md\n"
   ]
  },
  {
   "cell_type": "markdown",
   "metadata": {},
   "source": [
    "### Train the model\n",
    "With training data, domain, custom actions in place we can train and test our assistant to see how it works with NLU and dialogue management models in place."
   ]
  },
  {
   "cell_type": "code",
   "execution_count": null,
   "metadata": {},
   "outputs": [],
   "source": [
    "import nest_asyncio\n",
    "\n",
    "nest_asyncio.apply()\n",
    "print(\"Event loop ready.\")"
   ]
  },
  {
   "cell_type": "code",
   "execution_count": null,
   "metadata": {},
   "outputs": [],
   "source": [
    "import rasa\n",
    "\n",
    "# define the project files\n",
    "config = \"config.yml\"\n",
    "training_files = \"data/\"\n",
    "domain = \"domain.yml\"\n",
    "output = \"models/\"\n",
    "\n",
    "#train the example assistant\n",
    "model_path = rasa.train(domain, config, [training_files], output)"
   ]
  },
  {
   "cell_type": "markdown",
   "metadata": {},
   "source": [
    "Test the assistant:"
   ]
  },
  {
   "cell_type": "code",
   "execution_count": null,
   "metadata": {},
   "outputs": [],
   "source": [
    "from rasa.jupyter import chat\n",
    "chat(model_path)"
   ]
  }
 ],
 "metadata": {
  "kernelspec": {
   "display_name": "Python 3",
   "language": "python",
   "name": "python3"
  },
  "language_info": {
   "codemirror_mode": {
    "name": "ipython",
    "version": 3
   },
   "file_extension": ".py",
   "mimetype": "text/x-python",
   "name": "python",
   "nbconvert_exporter": "python",
   "pygments_lexer": "ipython3",
   "version": "3.7.3"
  }
 },
 "nbformat": 4,
 "nbformat_minor": 2
}